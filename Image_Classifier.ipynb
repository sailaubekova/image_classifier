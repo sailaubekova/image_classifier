{
  "cells": [
    {
      "cell_type": "markdown",
      "metadata": {
        "id": "mNMCK-W9txd_"
      },
      "source": [
        "\n",
        "From given dataset with images and annotations for binary image classification, I have come to idea of implementing CNN with cropped images by getting region information from annotation filee bounding boxes.\n",
        "\n",
        "Approach advantages:\n",
        "*   reduce data size, easy to train data\n",
        "*   reduce noise, increase visability\n",
        "\n",
        "\n",
        "After I will use multiple tecniques to improve model performance.\n",
        "\n",
        "*   Hyperparameter tuning\n",
        "*   Regularization techniques\n",
        "\n",
        "Then I will compare models performances and choose the best one.\n",
        "\n"
      ]
    },
    {
      "cell_type": "markdown",
      "metadata": {
        "id": "m5GcifXXPArl"
      },
      "source": [
        "# Import dependencies and set-up"
      ]
    },
    {
      "cell_type": "code",
      "execution_count": 5,
      "metadata": {
        "colab": {
          "base_uri": "https://localhost:8080/"
        },
        "id": "-mRA51RTPO5F",
        "outputId": "291ba458-85df-412b-d6dc-e405bc52b5c5"
      },
      "outputs": [
        {
          "output_type": "stream",
          "name": "stdout",
          "text": [
            "Looking in indexes: https://pypi.org/simple, https://us-python.pkg.dev/colab-wheels/public/simple/\n",
            "Requirement already satisfied: tensorflow in /usr/local/lib/python3.8/dist-packages (2.11.0)\n",
            "Requirement already satisfied: keras in /usr/local/lib/python3.8/dist-packages (2.11.0)\n",
            "Requirement already satisfied: h5py in /usr/local/lib/python3.8/dist-packages (3.1.0)\n",
            "Requirement already satisfied: opencv-python in /usr/local/lib/python3.8/dist-packages (4.6.0.66)\n",
            "Requirement already satisfied: matplotlib in /usr/local/lib/python3.8/dist-packages (3.2.2)\n",
            "Requirement already satisfied: numpy in /usr/local/lib/python3.8/dist-packages (1.21.6)\n",
            "Requirement already satisfied: pandas in /usr/local/lib/python3.8/dist-packages (1.3.5)\n",
            "Requirement already satisfied: libclang>=13.0.0 in /usr/local/lib/python3.8/dist-packages (from tensorflow) (15.0.6.1)\n",
            "Requirement already satisfied: termcolor>=1.1.0 in /usr/local/lib/python3.8/dist-packages (from tensorflow) (2.2.0)\n",
            "Requirement already satisfied: wrapt>=1.11.0 in /usr/local/lib/python3.8/dist-packages (from tensorflow) (1.14.1)\n",
            "Requirement already satisfied: typing-extensions>=3.6.6 in /usr/local/lib/python3.8/dist-packages (from tensorflow) (4.4.0)\n",
            "Requirement already satisfied: opt-einsum>=2.3.2 in /usr/local/lib/python3.8/dist-packages (from tensorflow) (3.3.0)\n",
            "Requirement already satisfied: grpcio<2.0,>=1.24.3 in /usr/local/lib/python3.8/dist-packages (from tensorflow) (1.51.1)\n",
            "Requirement already satisfied: gast<=0.4.0,>=0.2.1 in /usr/local/lib/python3.8/dist-packages (from tensorflow) (0.4.0)\n",
            "Requirement already satisfied: flatbuffers>=2.0 in /usr/local/lib/python3.8/dist-packages (from tensorflow) (23.1.21)\n",
            "Requirement already satisfied: protobuf<3.20,>=3.9.2 in /usr/local/lib/python3.8/dist-packages (from tensorflow) (3.19.6)\n",
            "Requirement already satisfied: google-pasta>=0.1.1 in /usr/local/lib/python3.8/dist-packages (from tensorflow) (0.2.0)\n",
            "Requirement already satisfied: tensorflow-io-gcs-filesystem>=0.23.1 in /usr/local/lib/python3.8/dist-packages (from tensorflow) (0.30.0)\n",
            "Requirement already satisfied: six>=1.12.0 in /usr/local/lib/python3.8/dist-packages (from tensorflow) (1.15.0)\n",
            "Requirement already satisfied: absl-py>=1.0.0 in /usr/local/lib/python3.8/dist-packages (from tensorflow) (1.4.0)\n",
            "Requirement already satisfied: tensorflow-estimator<2.12,>=2.11.0 in /usr/local/lib/python3.8/dist-packages (from tensorflow) (2.11.0)\n",
            "Requirement already satisfied: astunparse>=1.6.0 in /usr/local/lib/python3.8/dist-packages (from tensorflow) (1.6.3)\n",
            "Requirement already satisfied: packaging in /usr/local/lib/python3.8/dist-packages (from tensorflow) (23.0)\n",
            "Requirement already satisfied: setuptools in /usr/local/lib/python3.8/dist-packages (from tensorflow) (57.4.0)\n",
            "Requirement already satisfied: tensorboard<2.12,>=2.11 in /usr/local/lib/python3.8/dist-packages (from tensorflow) (2.11.2)\n",
            "Requirement already satisfied: kiwisolver>=1.0.1 in /usr/local/lib/python3.8/dist-packages (from matplotlib) (1.4.4)\n",
            "Requirement already satisfied: cycler>=0.10 in /usr/local/lib/python3.8/dist-packages (from matplotlib) (0.11.0)\n",
            "Requirement already satisfied: python-dateutil>=2.1 in /usr/local/lib/python3.8/dist-packages (from matplotlib) (2.8.2)\n",
            "Requirement already satisfied: pyparsing!=2.0.4,!=2.1.2,!=2.1.6,>=2.0.1 in /usr/local/lib/python3.8/dist-packages (from matplotlib) (3.0.9)\n",
            "Requirement already satisfied: pytz>=2017.3 in /usr/local/lib/python3.8/dist-packages (from pandas) (2022.7.1)\n",
            "Requirement already satisfied: wheel<1.0,>=0.23.0 in /usr/local/lib/python3.8/dist-packages (from astunparse>=1.6.0->tensorflow) (0.38.4)\n",
            "Requirement already satisfied: requests<3,>=2.21.0 in /usr/local/lib/python3.8/dist-packages (from tensorboard<2.12,>=2.11->tensorflow) (2.25.1)\n",
            "Requirement already satisfied: tensorboard-plugin-wit>=1.6.0 in /usr/local/lib/python3.8/dist-packages (from tensorboard<2.12,>=2.11->tensorflow) (1.8.1)\n",
            "Requirement already satisfied: tensorboard-data-server<0.7.0,>=0.6.0 in /usr/local/lib/python3.8/dist-packages (from tensorboard<2.12,>=2.11->tensorflow) (0.6.1)\n",
            "Requirement already satisfied: google-auth-oauthlib<0.5,>=0.4.1 in /usr/local/lib/python3.8/dist-packages (from tensorboard<2.12,>=2.11->tensorflow) (0.4.6)\n",
            "Requirement already satisfied: google-auth<3,>=1.6.3 in /usr/local/lib/python3.8/dist-packages (from tensorboard<2.12,>=2.11->tensorflow) (2.16.0)\n",
            "Requirement already satisfied: markdown>=2.6.8 in /usr/local/lib/python3.8/dist-packages (from tensorboard<2.12,>=2.11->tensorflow) (3.4.1)\n",
            "Requirement already satisfied: werkzeug>=1.0.1 in /usr/local/lib/python3.8/dist-packages (from tensorboard<2.12,>=2.11->tensorflow) (1.0.1)\n",
            "Requirement already satisfied: rsa<5,>=3.1.4 in /usr/local/lib/python3.8/dist-packages (from google-auth<3,>=1.6.3->tensorboard<2.12,>=2.11->tensorflow) (4.9)\n",
            "Requirement already satisfied: cachetools<6.0,>=2.0.0 in /usr/local/lib/python3.8/dist-packages (from google-auth<3,>=1.6.3->tensorboard<2.12,>=2.11->tensorflow) (5.3.0)\n",
            "Requirement already satisfied: pyasn1-modules>=0.2.1 in /usr/local/lib/python3.8/dist-packages (from google-auth<3,>=1.6.3->tensorboard<2.12,>=2.11->tensorflow) (0.2.8)\n",
            "Requirement already satisfied: requests-oauthlib>=0.7.0 in /usr/local/lib/python3.8/dist-packages (from google-auth-oauthlib<0.5,>=0.4.1->tensorboard<2.12,>=2.11->tensorflow) (1.3.1)\n",
            "Requirement already satisfied: importlib-metadata>=4.4 in /usr/local/lib/python3.8/dist-packages (from markdown>=2.6.8->tensorboard<2.12,>=2.11->tensorflow) (6.0.0)\n",
            "Requirement already satisfied: certifi>=2017.4.17 in /usr/local/lib/python3.8/dist-packages (from requests<3,>=2.21.0->tensorboard<2.12,>=2.11->tensorflow) (2022.12.7)\n",
            "Requirement already satisfied: idna<3,>=2.5 in /usr/local/lib/python3.8/dist-packages (from requests<3,>=2.21.0->tensorboard<2.12,>=2.11->tensorflow) (2.10)\n",
            "Requirement already satisfied: chardet<5,>=3.0.2 in /usr/local/lib/python3.8/dist-packages (from requests<3,>=2.21.0->tensorboard<2.12,>=2.11->tensorflow) (4.0.0)\n",
            "Requirement already satisfied: urllib3<1.27,>=1.21.1 in /usr/local/lib/python3.8/dist-packages (from requests<3,>=2.21.0->tensorboard<2.12,>=2.11->tensorflow) (1.24.3)\n",
            "Requirement already satisfied: zipp>=0.5 in /usr/local/lib/python3.8/dist-packages (from importlib-metadata>=4.4->markdown>=2.6.8->tensorboard<2.12,>=2.11->tensorflow) (3.12.1)\n",
            "Requirement already satisfied: pyasn1<0.5.0,>=0.4.6 in /usr/local/lib/python3.8/dist-packages (from pyasn1-modules>=0.2.1->google-auth<3,>=1.6.3->tensorboard<2.12,>=2.11->tensorflow) (0.4.8)\n",
            "Requirement already satisfied: oauthlib>=3.0.0 in /usr/local/lib/python3.8/dist-packages (from requests-oauthlib>=0.7.0->google-auth-oauthlib<0.5,>=0.4.1->tensorboard<2.12,>=2.11->tensorflow) (3.2.2)\n"
          ]
        }
      ],
      "source": [
        "!pip install tensorflow keras h5py opencv-python matplotlib numpy pandas"
      ]
    },
    {
      "cell_type": "code",
      "execution_count": 33,
      "metadata": {
        "id": "eAh-mLhhzx0Q"
      },
      "outputs": [],
      "source": [
        "import os\n",
        "import cv2\n",
        "import numpy as np\n",
        "import xml.etree.ElementTree as ET\n",
        "from sklearn.model_selection import train_test_split\n",
        "from keras.models import Sequential\n",
        "from keras.layers import Conv2D, MaxPooling2D, Flatten, Dense, Dropout\n",
        "import matplotlib.pyplot as plt\n",
        "from tensorflow.keras.optimizers import Adam\n",
        "from tensorflow import keras\n",
        "from sklearn.metrics import classification_report\n",
        "from tensorflow.keras.layers import BatchNormalization\n",
        "from sklearn.metrics import accuracy_score, precision_score, recall_score, f1_score, roc_auc_score"
      ]
    },
    {
      "cell_type": "markdown",
      "metadata": {
        "id": "-lM41-BgPW3s"
      },
      "source": [
        "# Data loading"
      ]
    },
    {
      "cell_type": "code",
      "execution_count": 7,
      "metadata": {
        "id": "rnPlQagblvCM",
        "colab": {
          "base_uri": "https://localhost:8080/"
        },
        "outputId": "1791814d-4934-4f30-8887-3561fb5757da"
      },
      "outputs": [
        {
          "output_type": "stream",
          "name": "stdout",
          "text": [
            "Mounted at /content/drive\n"
          ]
        }
      ],
      "source": [
        "from google.colab import drive\n",
        "drive.mount('/content/drive')"
      ]
    },
    {
      "cell_type": "code",
      "execution_count": 8,
      "metadata": {
        "id": "LxdMz7Xqlw-P"
      },
      "outputs": [],
      "source": [
        "# path to the directory containing the XML files\n",
        "annot_folder = '/content/drive/MyDrive/archive/annotations/'\n",
        "\n",
        "# path to the directory containing the images\n",
        "image_folder = '/content/drive/MyDrive/archive/images/'"
      ]
    },
    {
      "cell_type": "markdown",
      "metadata": {
        "id": "qLbaylYtkUpN"
      },
      "source": [
        "## Image cropping"
      ]
    },
    {
      "cell_type": "code",
      "execution_count": 9,
      "metadata": {
        "id": "MLq1kqLhz46g"
      },
      "outputs": [],
      "source": [
        "\n",
        "images = []\n",
        "labels = []"
      ]
    },
    {
      "cell_type": "code",
      "execution_count": 10,
      "metadata": {
        "id": "2lqXsEdOuVri"
      },
      "outputs": [],
      "source": [
        "img_size = (128, 128)"
      ]
    },
    {
      "cell_type": "code",
      "execution_count": 11,
      "metadata": {
        "id": "PD788tN9zuaL"
      },
      "outputs": [],
      "source": [
        "for file in os.listdir(annot_folder):\n",
        "    if file.endswith('.xml'):\n",
        "        # Parse the XML file to extract the bounding box coordinates\n",
        "        tree = ET.parse(os.path.join(annot_folder, file))\n",
        "        root = tree.getroot()\n",
        "        xmin = int(root.find('object/bndbox/xmin').text)\n",
        "        xmax = int(root.find('object/bndbox/xmax').text)\n",
        "        ymin = int(root.find('object/bndbox/ymin').text)\n",
        "        ymax = int(root.find('object/bndbox/ymax').text)\n",
        "        # Load the corresponding image and crop it to the bounding box\n",
        "        img_path = os.path.join(image_folder, file[:-4]+'.png')\n",
        "        img = cv2.imread(img_path)\n",
        "        img = cv2.cvtColor(img, cv2.COLOR_BGR2GRAY)\n",
        "        img = cv2.resize(img[ymin:ymax, xmin:xmax], img_size)\n",
        "        images.append(img)\n",
        "        # Set the label based on the class of the object\n",
        "        if root.find('object/name').text == 'dog':\n",
        "            labels.append(1)\n",
        "        else:\n",
        "            labels.append(0)\n"
      ]
    },
    {
      "cell_type": "markdown",
      "metadata": {
        "id": "H3O4EHtYQXFr"
      },
      "source": [
        "# Data preprocessing"
      ]
    },
    {
      "cell_type": "code",
      "execution_count": 12,
      "metadata": {
        "id": "ChHTABTWyEdz"
      },
      "outputs": [],
      "source": [
        "# Convert data to numpy arrays\n",
        "images = np.array(images)\n",
        "labels = np.array(labels)"
      ]
    },
    {
      "cell_type": "code",
      "execution_count": 15,
      "metadata": {
        "colab": {
          "base_uri": "https://localhost:8080/"
        },
        "id": "H4_iAdCn0EVz",
        "outputId": "e9efcc68-a2b1-4cb0-b44e-d655b1a414dc"
      },
      "outputs": [
        {
          "output_type": "execute_result",
          "data": {
            "text/plain": [
              "(128, 128)"
            ]
          },
          "metadata": {},
          "execution_count": 15
        }
      ],
      "source": [
        "images[0].shape"
      ]
    },
    {
      "cell_type": "code",
      "execution_count": 16,
      "metadata": {
        "colab": {
          "base_uri": "https://localhost:8080/"
        },
        "id": "BSSMQybvyNW2",
        "outputId": "352fb09f-0885-4c8b-d596-21a9d3bfda7f"
      },
      "outputs": [
        {
          "output_type": "execute_result",
          "data": {
            "text/plain": [
              "3686"
            ]
          },
          "metadata": {},
          "execution_count": 16
        }
      ],
      "source": [
        "len(labels)"
      ]
    },
    {
      "cell_type": "code",
      "execution_count": 17,
      "metadata": {
        "id": "THtqS7hRz9IM"
      },
      "outputs": [],
      "source": [
        "# Split the data into training and testing sets\n",
        "X_train, X_test, y_train, y_test = train_test_split(images, labels, test_size=0.2)"
      ]
    },
    {
      "cell_type": "code",
      "execution_count": 18,
      "metadata": {
        "id": "AIP3brrCz9Y4"
      },
      "outputs": [],
      "source": [
        "# Normalize the pixel values of the images\n",
        "X_train = X_train / 255.0\n",
        "X_test = X_test / 255.0"
      ]
    },
    {
      "cell_type": "code",
      "execution_count": null,
      "metadata": {
        "id": "Ki_dYcJn0Dvn"
      },
      "outputs": [],
      "source": [
        "# Reshape the data to be compatible with the CNN model\n",
        "X_train = X_train.reshape(-1, img_size[0], img_size[1], 1)\n",
        "X_test = X_test.reshape(-1, img_size[0], img_size[1], 1)"
      ]
    },
    {
      "cell_type": "markdown",
      "metadata": {
        "id": "J4dWys3cQky6"
      },
      "source": [
        "# Building model"
      ]
    },
    {
      "cell_type": "code",
      "execution_count": 19,
      "metadata": {
        "id": "FL530kSK5cvW"
      },
      "outputs": [],
      "source": [
        "# Build the CNN model\n",
        "model1 = Sequential([\n",
        "    Conv2D(32, (3, 3), activation='relu', input_shape=(128, 128, 1)),\n",
        "    MaxPooling2D((2, 2)),\n",
        "    Conv2D(64, (3, 3), activation='relu'),\n",
        "    MaxPooling2D((2, 2)),\n",
        "    Conv2D(128, (3, 3), activation='relu'),\n",
        "    MaxPooling2D((2, 2)),\n",
        "    Flatten(),\n",
        "    Dense(128, activation='relu'),\n",
        "    Dense(1, activation='sigmoid')\n",
        "])"
      ]
    },
    {
      "cell_type": "code",
      "execution_count": 21,
      "metadata": {
        "id": "LihZEG7J5ehO"
      },
      "outputs": [],
      "source": [
        "\n",
        "model1.compile(optimizer='adam', loss='binary_crossentropy', metrics=['accuracy'])"
      ]
    },
    {
      "cell_type": "code",
      "execution_count": 22,
      "metadata": {
        "colab": {
          "base_uri": "https://localhost:8080/"
        },
        "id": "DBxXXMAh5fJ6",
        "outputId": "297fc55d-7a50-478e-84ec-516ff77761a6"
      },
      "outputs": [
        {
          "output_type": "stream",
          "name": "stdout",
          "text": [
            "Epoch 1/10\n",
            "93/93 [==============================] - 123s 1s/step - loss: 0.5270 - accuracy: 0.7280 - val_loss: 0.3798 - val_accuracy: 0.8591\n",
            "Epoch 2/10\n",
            "93/93 [==============================] - 132s 1s/step - loss: 0.3169 - accuracy: 0.8636 - val_loss: 0.2670 - val_accuracy: 0.8984\n",
            "Epoch 3/10\n",
            "93/93 [==============================] - 111s 1s/step - loss: 0.2321 - accuracy: 0.9057 - val_loss: 0.2681 - val_accuracy: 0.9038\n",
            "Epoch 4/10\n",
            "93/93 [==============================] - 110s 1s/step - loss: 0.1758 - accuracy: 0.9305 - val_loss: 0.2031 - val_accuracy: 0.9309\n",
            "Epoch 5/10\n",
            "93/93 [==============================] - 106s 1s/step - loss: 0.1440 - accuracy: 0.9417 - val_loss: 0.1882 - val_accuracy: 0.9282\n",
            "Epoch 6/10\n",
            "93/93 [==============================] - 111s 1s/step - loss: 0.1558 - accuracy: 0.9406 - val_loss: 0.2073 - val_accuracy: 0.9336\n",
            "Epoch 7/10\n",
            "93/93 [==============================] - 110s 1s/step - loss: 0.0770 - accuracy: 0.9722 - val_loss: 0.2515 - val_accuracy: 0.9268\n",
            "Epoch 8/10\n",
            "93/93 [==============================] - 114s 1s/step - loss: 0.0549 - accuracy: 0.9796 - val_loss: 0.2196 - val_accuracy: 0.9228\n",
            "Epoch 9/10\n",
            "93/93 [==============================] - 108s 1s/step - loss: 0.0444 - accuracy: 0.9858 - val_loss: 0.2371 - val_accuracy: 0.9336\n",
            "Epoch 10/10\n",
            "93/93 [==============================] - 111s 1s/step - loss: 0.0397 - accuracy: 0.9854 - val_loss: 0.3374 - val_accuracy: 0.9377\n"
          ]
        }
      ],
      "source": [
        "# Train the model\n",
        "results1 = model1.fit(X_train, y_train, epochs=10, batch_size=32, validation_data=(X_test, y_test))"
      ]
    },
    {
      "cell_type": "markdown",
      "metadata": {
        "id": "ZgWv_nj4RA1L"
      },
      "source": [
        "### Hyperparameter tuning"
      ]
    },
    {
      "cell_type": "code",
      "execution_count": 23,
      "metadata": {
        "id": "-414O25hDjKo"
      },
      "outputs": [],
      "source": [
        "model2 = Sequential([\n",
        "    Conv2D(32, (3, 3), activation='relu', input_shape=(128, 128, 1)),\n",
        "    MaxPooling2D((2, 2)),\n",
        "    Conv2D(64, (3, 3), activation='relu'),\n",
        "    MaxPooling2D((2, 2)),\n",
        "    Conv2D(128, (3, 3), activation='relu'),\n",
        "    MaxPooling2D((2, 2)),\n",
        "    Flatten(),\n",
        "    Dense(128, activation='relu'),\n",
        "    Dropout(0.5),\n",
        "    Dense(1, activation='sigmoid')\n",
        "])"
      ]
    },
    {
      "cell_type": "code",
      "execution_count": 25,
      "metadata": {
        "id": "BGeSfCr8EYv5"
      },
      "outputs": [],
      "source": [
        "model2.compile(optimizer=Adam(learning_rate=0.0001), loss='binary_crossentropy', metrics=['accuracy'])"
      ]
    },
    {
      "cell_type": "code",
      "source": [
        "results2 = model2.fit(X_train, y_train, epochs=20, batch_size=32, validation_data=(X_test, y_test))"
      ],
      "metadata": {
        "colab": {
          "base_uri": "https://localhost:8080/"
        },
        "id": "vGWYa6pFSK0t",
        "outputId": "dbe05fcb-12d8-4880-f9fe-bfb74c773a07"
      },
      "execution_count": 26,
      "outputs": [
        {
          "output_type": "stream",
          "name": "stdout",
          "text": [
            "Epoch 1/20\n",
            "93/93 [==============================] - 115s 1s/step - loss: 0.6035 - accuracy: 0.6737 - val_loss: 0.5359 - val_accuracy: 0.6951\n",
            "Epoch 2/20\n",
            "93/93 [==============================] - 111s 1s/step - loss: 0.4628 - accuracy: 0.7748 - val_loss: 0.3496 - val_accuracy: 0.8686\n",
            "Epoch 3/20\n",
            "93/93 [==============================] - 108s 1s/step - loss: 0.3664 - accuracy: 0.8491 - val_loss: 0.3158 - val_accuracy: 0.8780\n",
            "Epoch 4/20\n",
            "93/93 [==============================] - 114s 1s/step - loss: 0.3235 - accuracy: 0.8647 - val_loss: 0.2734 - val_accuracy: 0.9024\n",
            "Epoch 5/20\n",
            "93/93 [==============================] - 110s 1s/step - loss: 0.2919 - accuracy: 0.8877 - val_loss: 0.2322 - val_accuracy: 0.9146\n",
            "Epoch 6/20\n",
            "93/93 [==============================] - 115s 1s/step - loss: 0.2681 - accuracy: 0.8942 - val_loss: 0.2329 - val_accuracy: 0.9146\n",
            "Epoch 7/20\n",
            "93/93 [==============================] - 113s 1s/step - loss: 0.2506 - accuracy: 0.9013 - val_loss: 0.2457 - val_accuracy: 0.9146\n",
            "Epoch 8/20\n",
            "93/93 [==============================] - 110s 1s/step - loss: 0.2391 - accuracy: 0.9020 - val_loss: 0.2209 - val_accuracy: 0.9187\n",
            "Epoch 9/20\n",
            "93/93 [==============================] - 110s 1s/step - loss: 0.2191 - accuracy: 0.9210 - val_loss: 0.1990 - val_accuracy: 0.9309\n",
            "Epoch 10/20\n",
            "93/93 [==============================] - 107s 1s/step - loss: 0.2068 - accuracy: 0.9247 - val_loss: 0.1920 - val_accuracy: 0.9282\n",
            "Epoch 11/20\n",
            "93/93 [==============================] - 114s 1s/step - loss: 0.1987 - accuracy: 0.9271 - val_loss: 0.1851 - val_accuracy: 0.9390\n",
            "Epoch 12/20\n",
            "93/93 [==============================] - 110s 1s/step - loss: 0.1868 - accuracy: 0.9308 - val_loss: 0.2107 - val_accuracy: 0.9241\n",
            "Epoch 13/20\n",
            "93/93 [==============================] - 112s 1s/step - loss: 0.1720 - accuracy: 0.9369 - val_loss: 0.1812 - val_accuracy: 0.9458\n",
            "Epoch 14/20\n",
            "93/93 [==============================] - 112s 1s/step - loss: 0.1631 - accuracy: 0.9427 - val_loss: 0.1760 - val_accuracy: 0.9363\n",
            "Epoch 15/20\n",
            "93/93 [==============================] - 111s 1s/step - loss: 0.1457 - accuracy: 0.9464 - val_loss: 0.1923 - val_accuracy: 0.9268\n",
            "Epoch 16/20\n",
            "93/93 [==============================] - 114s 1s/step - loss: 0.1510 - accuracy: 0.9478 - val_loss: 0.1932 - val_accuracy: 0.9309\n",
            "Epoch 17/20\n",
            "93/93 [==============================] - 117s 1s/step - loss: 0.1387 - accuracy: 0.9515 - val_loss: 0.1807 - val_accuracy: 0.9390\n",
            "Epoch 18/20\n",
            "93/93 [==============================] - 108s 1s/step - loss: 0.1240 - accuracy: 0.9583 - val_loss: 0.1684 - val_accuracy: 0.9485\n",
            "Epoch 19/20\n",
            "93/93 [==============================] - 112s 1s/step - loss: 0.1156 - accuracy: 0.9600 - val_loss: 0.1704 - val_accuracy: 0.9472\n",
            "Epoch 20/20\n",
            "93/93 [==============================] - 108s 1s/step - loss: 0.1162 - accuracy: 0.9569 - val_loss: 0.1879 - val_accuracy: 0.9417\n"
          ]
        }
      ]
    },
    {
      "cell_type": "markdown",
      "metadata": {
        "id": "gFhnZjJPRO4y"
      },
      "source": [
        "### Regularization techniques"
      ]
    },
    {
      "cell_type": "code",
      "execution_count": 29,
      "metadata": {
        "id": "9eSopmR-MQYT"
      },
      "outputs": [],
      "source": [
        "model3 = Sequential([\n",
        "    Conv2D(32, (3, 3), activation='relu', input_shape=(128, 128, 1)),\n",
        "    BatchNormalization(),\n",
        "    MaxPooling2D((2, 2)),\n",
        "    Conv2D(64, (3, 3), activation='relu'),\n",
        "    BatchNormalization(),\n",
        "    MaxPooling2D((2, 2)),\n",
        "    Conv2D(128, (3, 3), activation='relu'),\n",
        "    BatchNormalization(),\n",
        "    MaxPooling2D((2, 2)),\n",
        "    Flatten(),\n",
        "    Dense(128, activation='relu'),\n",
        "    BatchNormalization(),\n",
        "    Dropout(0.5),\n",
        "    Dense(1, activation='sigmoid')\n",
        "])"
      ]
    },
    {
      "cell_type": "code",
      "execution_count": 30,
      "metadata": {
        "id": "1zAOnbM4Ratk"
      },
      "outputs": [],
      "source": [
        "model3.compile(optimizer='adam', loss='binary_crossentropy', metrics=['accuracy'])"
      ]
    },
    {
      "cell_type": "code",
      "execution_count": 31,
      "metadata": {
        "colab": {
          "base_uri": "https://localhost:8080/"
        },
        "id": "YRPDjGujRceP",
        "outputId": "f0836fea-791f-4430-bd82-7e1404e080db"
      },
      "outputs": [
        {
          "output_type": "stream",
          "name": "stdout",
          "text": [
            "Epoch 1/10\n",
            "93/93 [==============================] - 145s 2s/step - loss: 0.5012 - accuracy: 0.8016 - val_loss: 1.5065 - val_accuracy: 0.6870\n",
            "Epoch 2/10\n",
            "93/93 [==============================] - 136s 1s/step - loss: 0.2896 - accuracy: 0.8847 - val_loss: 0.9621 - val_accuracy: 0.6870\n",
            "Epoch 3/10\n",
            "93/93 [==============================] - 139s 1s/step - loss: 0.1922 - accuracy: 0.9264 - val_loss: 0.9343 - val_accuracy: 0.6870\n",
            "Epoch 4/10\n",
            "93/93 [==============================] - 136s 1s/step - loss: 0.1228 - accuracy: 0.9512 - val_loss: 0.3254 - val_accuracy: 0.8645\n",
            "Epoch 5/10\n",
            "93/93 [==============================] - 135s 1s/step - loss: 0.1907 - accuracy: 0.9230 - val_loss: 0.2908 - val_accuracy: 0.8794\n",
            "Epoch 6/10\n",
            "93/93 [==============================] - 142s 2s/step - loss: 0.0874 - accuracy: 0.9678 - val_loss: 0.1802 - val_accuracy: 0.9336\n",
            "Epoch 7/10\n",
            "93/93 [==============================] - 136s 1s/step - loss: 0.0643 - accuracy: 0.9752 - val_loss: 0.1606 - val_accuracy: 0.9295\n",
            "Epoch 8/10\n",
            "93/93 [==============================] - 138s 1s/step - loss: 0.0400 - accuracy: 0.9895 - val_loss: 0.1554 - val_accuracy: 0.9417\n",
            "Epoch 9/10\n",
            "93/93 [==============================] - 134s 1s/step - loss: 0.0377 - accuracy: 0.9885 - val_loss: 0.1825 - val_accuracy: 0.9417\n",
            "Epoch 10/10\n",
            "93/93 [==============================] - 137s 1s/step - loss: 0.0302 - accuracy: 0.9908 - val_loss: 0.3482 - val_accuracy: 0.8970\n"
          ]
        }
      ],
      "source": [
        "results3 = model3.fit(X_train, y_train, epochs=10, batch_size=32, validation_data=(X_test, y_test))"
      ]
    },
    {
      "cell_type": "markdown",
      "metadata": {
        "id": "pTfezMTeVfy1"
      },
      "source": [
        "# Evaluate"
      ]
    },
    {
      "cell_type": "code",
      "source": [
        "# Evaluate the models on the test set\n",
        "test_loss1, test_acc1 = model1.evaluate(X_test, y_test)\n",
        "test_loss2, test_acc2 = model2.evaluate(X_test, y_test)\n",
        "test_loss3, test_acc3 = model3.evaluate(X_test, y_test)\n",
        "\n",
        "# Print the test accuracy of each model\n",
        "print(\"Model 1 test accuracy:\", test_acc1)\n",
        "print(\"Model 2 test accuracy:\", test_acc2)\n",
        "print(\"Model 3 test accuracy:\", test_acc3)"
      ],
      "metadata": {
        "colab": {
          "base_uri": "https://localhost:8080/"
        },
        "id": "Bwzag-6Ro-FI",
        "outputId": "471fb096-2709-41a9-84f3-0688d621290c"
      },
      "execution_count": 44,
      "outputs": [
        {
          "output_type": "stream",
          "name": "stdout",
          "text": [
            "24/24 [==============================] - 8s 338ms/step - loss: 0.3374 - accuracy: 0.9377\n",
            "24/24 [==============================] - 7s 299ms/step - loss: 0.1879 - accuracy: 0.9417\n",
            "24/24 [==============================] - 7s 299ms/step - loss: 0.3482 - accuracy: 0.8970\n",
            "Model 1 test accuracy: 0.9376693964004517\n",
            "Model 2 test accuracy: 0.9417344331741333\n",
            "Model 3 test accuracy: 0.8970189690589905\n"
          ]
        }
      ]
    },
    {
      "cell_type": "markdown",
      "source": [
        "# Plot performance"
      ],
      "metadata": {
        "id": "LnJh0PsFvCQZ"
      }
    },
    {
      "cell_type": "code",
      "execution_count": 36,
      "metadata": {
        "colab": {
          "base_uri": "https://localhost:8080/",
          "height": 295
        },
        "id": "rhhb4PuZzYed",
        "outputId": "b3fab7a9-26f5-43f1-b1cf-27b534ac1455"
      },
      "outputs": [
        {
          "output_type": "display_data",
          "data": {
            "text/plain": [
              "<Figure size 432x288 with 1 Axes>"
            ],
            "image/png": "[encoded data removed]"
          },
          "metadata": {
            "needs_background": "light"
          }
        }
      ],
      "source": [
        "# Plot learning curves\n",
        "plt.plot(results1.history['accuracy'])\n",
        "plt.plot(results1.history['val_accuracy'])\n",
        "plt.plot(results2.history['accuracy'])\n",
        "plt.plot(results2.history['val_accuracy'])\n",
        "plt.plot(results3.history['accuracy'])\n",
        "plt.plot(results3.history['val_accuracy'])\n",
        "plt.title('Model Accuracy')\n",
        "plt.ylabel('Accuracy')\n",
        "plt.xlabel('Epoch')\n",
        "plt.legend(['Model 1 Train', 'Model 1 Val', 'Model 2 Train', 'Model 2 Val', 'Model 3 Train', 'Model 3 Val'], loc='lower right')\n",
        "plt.show()"
      ]
    },
    {
      "cell_type": "code",
      "execution_count": 37,
      "metadata": {
        "colab": {
          "base_uri": "https://localhost:8080/",
          "height": 295
        },
        "id": "6PQGdFVmzdh4",
        "outputId": "5fd2c78f-9f6f-4ecb-9072-56ad480d39b5"
      },
      "outputs": [
        {
          "output_type": "display_data",
          "data": {
            "text/plain": [
              "<Figure size 432x288 with 1 Axes>"
            ],
            "image/png": "[encoded data removed]"
          },
          "metadata": {
            "needs_background": "light"
          }
        }
      ],
      "source": [
        "plt.plot(results1.history['loss'])\n",
        "plt.plot(results1.history['val_loss'])\n",
        "plt.plot(results2.history['loss'])\n",
        "plt.plot(results2.history['val_loss'])\n",
        "plt.plot(results3.history['loss'])\n",
        "plt.plot(results3.history['val_loss'])\n",
        "plt.title('Model Loss')\n",
        "plt.ylabel('Loss')\n",
        "plt.xlabel('Epoch')\n",
        "plt.legend(['Model 1 Train', 'Model 1 Val', 'Model 2 Train', 'Model 2 Val', 'Model 3 Train', 'Model 3 Val'], loc='upper right')\n",
        "plt.show()"
      ]
    },
    {
      "cell_type": "markdown",
      "source": [
        "# Saving model"
      ],
      "metadata": {
        "id": "3DzNjwLmqFqf"
      }
    },
    {
      "cell_type": "code",
      "source": [
        "model2.save(os.path.join('models','imageclassifier.h5'))"
      ],
      "metadata": {
        "id": "YXwo_9uppNRs"
      },
      "execution_count": 46,
      "outputs": []
    }
  ],
  "metadata": {
    "colab": {
      "provenance": []
    },
    "gpuClass": "standard",
    "kernelspec": {
      "display_name": "Python 3",
      "name": "python3"
    },
    "language_info": {
      "name": "python"
    }
  },
  "nbformat": 4,
  "nbformat_minor": 0
}